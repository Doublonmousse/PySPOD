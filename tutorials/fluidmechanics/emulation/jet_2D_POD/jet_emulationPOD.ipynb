{
 "cells": [
  {
   "cell_type": "markdown",
   "metadata": {},
   "source": [
    "# 2D Jet POD"
   ]
  },
  {
   "cell_type": "markdown",
   "metadata": {},
   "source": [
    "In this tutorial we will explore a small dataset provided with this package that contains pressure data of the flow exiting a nozzle (also referred to as a jet).\n",
    "Cylindrical coordinates (r,x) are used and they are equally spaced. \n",
    "In particular, starting from a database of pre computed solutions, we want to:\n",
    "- extract the POD (coherent in space) modes\n",
    "- compute the coefficients projecting the data on the POD basis built by gathering the modes\n",
    "- learn the latent dynamics through a LSTM-based neural network\n",
    "- predict future coefficients, i.e. the future evolution in time of the flow field\n",
    "- compare predictions with the actual flow realizations\n",
    "\n",
    "In detail, the starting dataset consists of 1000 flow realizations which represent the pressure field at different time instant. The time step is 12 hours."
   ]
  },
  {
   "cell_type": "markdown",
   "metadata": {},
   "source": [
    "## Loading libraries and data"
   ]
  },
  {
   "cell_type": "markdown",
   "metadata": {},
   "source": [
    "The dataset is part of the data used for the regression tests that come with this library and is stored into `tests/data/fluidmechanic_data.mat`. The first step to anlyze this dataset is to import the required libraries, including the custom libraries\n",
    "- 'from pyspod.pod_base import POD_base'\n",
    "- 'from pyspod.emulation   import Emulation'\n",
    "- 'import pyspod.utils_weights as utils_weights'\n",
    "- 'import pyspod.utils as utils'  \n"
   ]
  },
  {
   "cell_type": "code",
   "execution_count": 1,
   "metadata": {},
   "outputs": [
    {
     "name": "stderr",
     "output_type": "stream",
     "text": [
      "2021-10-26 12:29:46.878476: I tensorflow/core/platform/cpu_feature_guard.cc:142] This TensorFlow binary is optimized with oneAPI Deep Neural Network Library (oneDNN) to use the following CPU instructions in performance-critical operations:  AVX2 FMA\n",
      "To enable them in other operations, rebuild TensorFlow with the appropriate compiler flags.\n"
     ]
    },
    {
     "name": "stdout",
     "output_type": "stream",
     "text": [
      "WARNING:tensorflow:From /Users/gian/GIT/PySPOD_new/tutorials/fluidmechanics/emulation/jet_2D_POD/../../../../pyspod/emulation.py:24: The name tf.keras.backend.set_session is deprecated. Please use tf.compat.v1.keras.backend.set_session instead.\n",
      "\n"
     ]
    }
   ],
   "source": [
    "# Import libraries\n",
    "import os\n",
    "import sys\n",
    "import h5py\n",
    "import shutil\n",
    "import numpy as np\n",
    "from pathlib import Path\n",
    "\n",
    "# Current, parent and file paths import sys\n",
    "CWD = os.getcwd()\n",
    "sys.path.insert(0, os.path.join(CWD, \"../../../../\"))\n",
    "\n",
    "# Import specific libraries\n",
    "from pyspod.pod_base import POD_base\n",
    "from pyspod.emulation   import Emulation\n",
    "import pyspod.utils_weights as utils_weights\n",
    "import pyspod.utils as utils  "
   ]
  },
  {
   "cell_type": "markdown",
   "metadata": {},
   "source": [
    "The second step conists into importing data from \"fluidmechanics_data.mat\" located in the folder pysod/test/data and store them in a dictionary. "
   ]
  },
  {
   "cell_type": "code",
   "execution_count": 2,
   "metadata": {},
   "outputs": [],
   "source": [
    "file = os.path.join(CWD,'../../../../tests/data','fluidmechanics_data.mat')\n",
    "variables = ['p']\n",
    "with h5py.File(file, 'r') as f:\n",
    "\tdata_arrays = dict()\n",
    "\tfor k, v in f.items():\n",
    "\t\tdata_arrays[k] = np.array(v)"
   ]
  },
  {
   "cell_type": "markdown",
   "metadata": {},
   "source": [
    "## Define global variables and global parameters"
   ]
  },
  {
   "cell_type": "markdown",
   "metadata": {},
   "source": [
    "The data are stored in a matrix `X` and, to be suitable to the `PySPOD` library, it must have the following features:\n",
    "- first dimension must correspond to the number of time snapshots (1000 in our case)\n",
    "- last dimension should corresponds to the number of variables (1 in our case)\n",
    "- the remaining dimensions corresponds to the spatial dimensions (20, and 88 in our case, that correspond to radial and axial spatial coordinates).\n",
    "We note that in the present test case the data matrix `X` used is already in a shape that is suitable to `PySPOD`, as its dimension is:\n",
    "$$\\text{$X$ dimensions} = 1000 \\times 20 \\times 88 $$\n",
    "\n",
    "Other global variables and parameters are defined. In detail:\n",
    "- `nt`: integer, number of snapshots, read from the data_arrays\n",
    "- `t`: vector containing the time instants at which the flow realizations have been stored\n",
    "- `x1`: list of coordinate along the x1-axis (in this case x1='r')\n",
    "- `x2`: list of coordinates along the x2-axis(in this case x2='x')\n",
    "- `trainingDataRatio`: real, ratio between training data number and total number of snapshots\n",
    "\n",
    "In the dictionary 'params' the following variables are stored:\n",
    "- `dt`: time step\n",
    "- `n_space_dims`: integer, number of space dimensions, in our case 2\n",
    "- `n_variables`: integer, nr of variables, in our case 1\n",
    "- `n_modes_save`: integer, number of modes that are taken into account (and stored)\n",
    "- `savedir`: string, name of the directory where results will be saved\n",
    "- `normalize_weights` (optional): boolean which activate the normalization of weights by data variance\n",
    "- `normalize_data` (optional): boolean which normalize data by data variance\n",
    "\n",
    "**Note that we do not set any parameter for the Weights adopted to compute th einner product in the SPOD calculation. In this case, the algorithm will use automatically uniform weighting (weighting equal 1), and it will prompt a warning stating the use of default uniform weighting.** \n",
    "\n",
    "In the dictionary 'params_emulation' the following variables, which allow to define some relevant parameters of a single layer neural network, are stored:\n",
    "- `network`: string, type of neural network. In the present tutorial 'lstm'\n",
    "- `epochs`: integer, number of epochs\n",
    "- `batch_size`: integer, batch size\n",
    "- `n_seq_in`: integer, dimension of input sequence \n",
    "- `n_seq_out`: integer, number of steps to predict\n",
    "- `n_neurons`: number of neurons in each layer\n",
    "- `dropout`: value of the dropout\n",
    "- `savedir`: string, name of the directory where results will be saved\n",
    "\n",
    "In the present test case we use 60 (`n_seq_in`=60) previous values of the coefficients in order to evaluate the next one (`n_seq_out`=1)."
   ]
  },
  {
   "cell_type": "code",
   "execution_count": 3,
   "metadata": {},
   "outputs": [],
   "source": [
    "dt = data_arrays['dt'][0,0]\n",
    "X = data_arrays[variables[0]].T\n",
    "\n",
    "t = dt * np.arange(0,X.shape[0]); t = t.T\n",
    "nt = t.shape[0]\n",
    "x1 = data_arrays['r'].T; x1 = x1[:,0]\n",
    "x2 = data_arrays['x'].T; x2 = x2[0,:]\n",
    "\n",
    "trainingDataRatio = 0.8 # ratio between training data number and total number of snapshots\n",
    "testingDataRatio = (1-trainingDataRatio)\n",
    "\n",
    "# parameters\n",
    "params = dict()\n",
    "\n",
    "# -- required parameters\n",
    "params['time_step'   \t   ] = dt \t\t\t\t\t\t# data time-sampling\n",
    "params['n_space_dims'    ] = 2\t\t\t\t\t\t\t# number of spatial dimensions (longitude and latitude)\n",
    "params['n_variables'     ] = 1\t\t\t\t\t\t\t# number of variables\n",
    "# -- optional parameters\n",
    "params['normalize_weights'] = False\t \t\t\t# normalization of weights by data variance\n",
    "params['normalize_data'   ] = False  \t\t\t# normalize data by data variance\n",
    "params['n_modes_save'     ] = 8  \t\t# modes to be saved\n",
    "params['savedir'          ] = os.path.join(CWD, 'results', Path(file).stem)\n",
    "\n",
    "params_emulation = dict()\n",
    "\n",
    "params_emulation['network'     ] = 'lstm' \t\t\t\t\t\t# type of network\n",
    "params_emulation['epochs'      ] = 130 \t\t\t\t\t\t# number of epochs\n",
    "params_emulation['batch_size'  ] = 32\t\t\t\t\t\t\t# batch size\n",
    "params_emulation['n_seq_in'    ] = 60\t\t\t\t\t\t\t# dimension of input sequence \n",
    "params_emulation['n_seq_out'   ] = 1                          # number of steps to predict\n",
    "params_emulation['n_neurons'   ] = 25                          # number of neurons\n",
    "params_emulation['dropout'   ] = 0.15                          # dropout\n",
    "params_emulation['savedir'     ] = os.path.join(CWD, 'results', Path(file).stem)\n"
   ]
  },
  {
   "cell_type": "markdown",
   "metadata": {},
   "source": [
    "## Compute POD modes and coefficients "
   ]
  },
  {
   "cell_type": "markdown",
   "metadata": {},
   "source": [
    "The following lines of code are used for the initialization of variables. `X_train` and `X_test` are numpy data structures which contain the training set and the testing set respectively; therefore their dimensions are (`nt_train`, 20, 88) and (`nt_test`, 20, 88), being in this test case `nt_train`= $0.8\\cdot nt$ and nt_test=$0.2\\cdot nt$. "
   ]
  },
  {
   "cell_type": "code",
   "execution_count": 4,
   "metadata": {},
   "outputs": [],
   "source": [
    "#  training and testing database definition\n",
    "nt_train = int(trainingDataRatio * nt)\n",
    "X_train = X[:nt_train,:,:]\n",
    "nt_test = nt - nt_train\n",
    "X_test  = X[nt_train:,:,:]\n"
   ]
  },
  {
   "cell_type": "markdown",
   "metadata": {},
   "source": [
    "Once we have loaded the data, defined the required and optional parameters, and allocated the testing and training structures we can perform the analysis. This step is accomplished by calling the `PySPOD` constructor`POD_base(params=params, data_handler=False, variables=variables)` and the `fit` method, `POD_analysis.fit(data=X_train, nt=nt_train)`. \n",
    "\n",
    "The `POD_base` constructor takes the following arguments :\n",
    "  - `params`: must be a dictionary and contains the parameters that we have just defined. \n",
    "  - `data_handler`: can be either `False` or a function handler. If it is a function handler, it must hold the function to read the data. The template for the function to read the data must have as first argument the data file, as second and third the time indices through which we will slice the data in time, and as fourth argument a list containing the name of the variables. See our data reader as an example and modify it according to your needs.\n",
    "  - `variables`: is a list containing our variables. \n",
    "The function `fit` returns a reference to the instance object on which it was called, given data and size of this dataset as input."
   ]
  },
  {
   "cell_type": "code",
   "execution_count": 5,
   "metadata": {},
   "outputs": [
    {
     "name": "stdout",
     "output_type": "stream",
     "text": [
      "\n",
      "POD parameters\n",
      "------------------------------------\n",
      "Problem size               :  0.010490417480468766 GB. (double)\n",
      "Time-step                  :  0.2\n",
      "Time snapshots             :  800\n",
      "Space dimensions           :  2\n",
      "Number of variables        :  1\n",
      "Normalization weights      :  False\n",
      "Normalization data         :  False\n",
      "Number of modes to be saved:  8\n",
      "Results to be saved in     :  /Users/gian/GIT/PySPOD_new/tutorials/fluidmechanics/emulation/jet_2D_POD/results/fluidmechanics_data\n",
      "------------------------------------\n",
      "\n"
     ]
    },
    {
     "name": "stderr",
     "output_type": "stream",
     "text": [
      "/Users/gian/GIT/PySPOD_new/tutorials/fluidmechanics/emulation/jet_2D_POD/../../../../pyspod/pod_base.py:91: UserWarning: Parameter `weights` not equal to an `numpy.ndarray`.Using default uniform weighting\n",
      "  warnings.warn(\n"
     ]
    }
   ],
   "source": [
    "# SPOD analysis\n",
    "POD_analysis = POD_base(\n",
    "params=params, \n",
    "data_handler=False, \n",
    "variables=variables\n",
    ")\n",
    "# fit \n",
    "pod = POD_analysis.fit(data=X_train, nt=nt_train)\n"
   ]
  },
  {
   "cell_type": "markdown",
   "metadata": {},
   "source": [
    "In the transform function the pressure fluctuations are computed by subtracting the mean field from the snapshots. Then the POD modes are evaluated and the coefficients are obtained by projecting the snapshots representing the pressure fluctuations onto the reduced POD basis obtained by gathering the most significant modes. In details, the `pod.transform` function accept as input\n",
    "- `data`: dataset on which the analysis is performed\n",
    "- `nt`: number of snapshots of the dataset 'data'\n",
    "\n",
    "and it returns a dictionary which contains the following keywords:\n",
    "- `time_mean`: the average in time of snapshots\n",
    "- `phi_tilde`: the first most significant modes, i.e. the ones associated to the biggest n_save_modes eigenvalues. These modes identify a reduced basis, significant for the case at hand.\n",
    "- `coeffs`: the coefficients obtained by projection\n",
    "- `reconstructed_data`: snapshots reconstructed by superimposing the modes multiplied by the coefficients\n",
    "\n",
    "The coeffs_test is instead a vector which contains the coefficients which are evaluated by projecting the snapshots of the testing database onto the reduced POD basis previously computed. "
   ]
  },
  {
   "cell_type": "code",
   "execution_count": 6,
   "metadata": {},
   "outputs": [
    {
     "name": "stdout",
     "output_type": "stream",
     "text": [
      "coeffs.shape =  (8, 800)\n"
     ]
    },
    {
     "name": "stderr",
     "output_type": "stream",
     "text": [
      "/Users/gian/GIT/PySPOD_new/tutorials/fluidmechanics/emulation/jet_2D_POD/../../../../pyspod/pod_base.py:297: ComplexWarning: Casting complex values to real discards the imaginary part\n",
      "  phi[:,t] = phi[:,t] / np.sqrt(w[:])\n"
     ]
    }
   ],
   "source": [
    "# transform\n",
    "coeffs_train = pod.transform(data=X_train, nt=nt_train)\n",
    "\n",
    "X_rearrange_test = np.reshape(X_test[:,:,:], [nt_test,pod.nv*pod.nx])\n",
    "for i in range(nt_test):\n",
    "\tX_rearrange_test[i,:] = np.squeeze(X_rearrange_test[i,:]) - np.squeeze(coeffs_train['time_mean'])\n",
    "coeffs_test = np.matmul(np.transpose(coeffs_train['phi_tilde']), X_rearrange_test.T)\n",
    "\n"
   ]
  },
  {
   "cell_type": "markdown",
   "metadata": {},
   "source": [
    "## Learning the latent space dynamics"
   ]
  },
  {
   "cell_type": "markdown",
   "metadata": {},
   "source": [
    "The following lines are required in order to initialize the data structures needed to train the neural network and to store its output "
   ]
  },
  {
   "cell_type": "code",
   "execution_count": 7,
   "metadata": {},
   "outputs": [],
   "source": [
    "# initialization of variables and structures\n",
    "n_modes = params['n_modes_save'] \n",
    "n_feature = coeffs_train['coeffs'].shape[0]\n",
    "\n",
    "data_train = np.zeros([n_modes,coeffs_train['coeffs'].shape[1]],dtype='double')\n",
    "data_test = np.zeros([n_modes,coeffs_test.shape[1]],dtype='double')\n",
    "coeffs_emul = np.zeros([coeffs_test.shape[0],coeffs_test.shape[1]],dtype='double')\n",
    "coeffs_tmp = np.zeros([n_modes,coeffs_test.shape[1]],dtype='double')\n"
   ]
  },
  {
   "cell_type": "markdown",
   "metadata": {},
   "source": [
    "The coefficients previously evaluated can now be used for training a LSTM-based neural network.\n",
    "The Emulation constructor requires the following parameters:\n",
    "- `params_emulation`: dict containing the parameters described in the previous sections. They contain all the relevant data for creating a single-layer neural network with Dropout\n",
    "\n",
    "The neural network is initialized by calling `pod.model_initialize` that requires the data set which the network will be trained with."
   ]
  },
  {
   "cell_type": "code",
   "execution_count": 8,
   "metadata": {},
   "outputs": [
    {
     "name": "stdout",
     "output_type": "stream",
     "text": [
      "Model: \"sequential\"\n",
      "_________________________________________________________________\n",
      "Layer (type)                 Output Shape              Param #   \n",
      "=================================================================\n",
      "lstm (LSTM)                  (None, 25)                3400      \n",
      "_________________________________________________________________\n",
      "dropout (Dropout)            (None, 25)                0         \n",
      "_________________________________________________________________\n",
      "dense (Dense)                (None, 8)                 208       \n",
      "=================================================================\n",
      "Total params: 3,608\n",
      "Trainable params: 3,608\n",
      "Non-trainable params: 0\n",
      "_________________________________________________________________\n"
     ]
    },
    {
     "name": "stderr",
     "output_type": "stream",
     "text": [
      "/usr/local/lib/python3.9/site-packages/keras/optimizer_v2/optimizer_v2.py:355: UserWarning: The `lr` argument is deprecated, use `learning_rate` instead.\n",
      "  warnings.warn(\n"
     ]
    }
   ],
   "source": [
    "# LSTM\n",
    "pod_emulation = Emulation(params_emulation)\n",
    "\n",
    "# initialization of the network\n",
    "pod_emulation.model_initialize(data=data_train)\n"
   ]
  },
  {
   "cell_type": "markdown",
   "metadata": {},
   "source": [
    "It is a common practice to provide scaled input to the neural network. For this reason a scaler vector is computed by calling the function `utils.compute_normalizationVectorReal`. Three different arguments can be used for defining the `normalizeMethod` variable:\n",
    "- `localmax`: each coefficient is scaled by its local maximum\n",
    "- `globalmax`: all the coefficients are scaled by the same value which represent the global maximum\n",
    "- `None`: no scaling is applied. The output vector contains ones.\n",
    "Once that the scaling vector is known, the scaling is applied both to the training dataset and to the testing one."
   ]
  },
  {
   "cell_type": "code",
   "execution_count": 9,
   "metadata": {},
   "outputs": [],
   "source": [
    "# copy and normalize data \n",
    "scaler  = utils.compute_normalizationVectorReal(coeffs_train['coeffs'][:,:], normalizeMethod='localmax')\n",
    "data_train[:,:] = utils.normalize_dataReal(coeffs_train['coeffs'][:,:], normalizationVec=scaler)\n",
    "data_test[:,:]  = utils.normalize_dataReal(coeffs_test[:,:], normalizationVec=scaler)"
   ]
  },
  {
   "cell_type": "markdown",
   "metadata": {},
   "source": [
    "The training of the neural network is carried out by calling the `pod_emulation.model_train` function. The following inputs are requested:\n",
    "- `idx`: integer, it is an identifier associated to the neural network. Thanks to this idx, more than one network can be trained in the same run and the weights can be stored in different files.\n",
    "- `data_train`: dataset used for the training\n",
    "- `data_valid`: dataset used for the validation\n",
    "- `plotHistory` (otpional): boolean, plot  the trainig history when set to `True`"
   ]
  },
  {
   "cell_type": "code",
   "execution_count": 10,
   "metadata": {},
   "outputs": [
    {
     "name": "stderr",
     "output_type": "stream",
     "text": [
      "extract sequences: 100%|██████████████████████████████████████████████████████████████████████████████████████████████████████████████████████████████████████████████████████| 739/739 [00:00<00:00, 54382.60it/s]\n"
     ]
    },
    {
     "name": "stdout",
     "output_type": "stream",
     "text": [
      "**********************************\n",
      "* DATA LAYOUT                    *\n",
      "**********************************\n",
      "data_size =  (8, 800)\n",
      "x.shape =  (739, 60, 8)\n",
      "y.shape =  (739, 8)\n",
      "**********************************\n"
     ]
    },
    {
     "name": "stderr",
     "output_type": "stream",
     "text": [
      "extract sequences: 100%|██████████████████████████████████████████████████████████████████████████████████████████████████████████████████████████████████████████████████████| 139/139 [00:00<00:00, 18947.91it/s]\n"
     ]
    },
    {
     "name": "stdout",
     "output_type": "stream",
     "text": [
      "**********************************\n",
      "* DATA LAYOUT                    *\n",
      "**********************************\n",
      "data_size =  (8, 200)\n",
      "x.shape =  (139, 60, 8)\n",
      "y.shape =  (139, 8)\n",
      "**********************************\n"
     ]
    },
    {
     "name": "stderr",
     "output_type": "stream",
     "text": [
      "2021-10-26 12:30:19.103249: I tensorflow/compiler/mlir/mlir_graph_optimization_pass.cc:185] None of the MLIR Optimization Passes are enabled (registered 2)\n"
     ]
    },
    {
     "name": "stdout",
     "output_type": "stream",
     "text": [
      "Epoch 1/130\n",
      "24/24 [==============================] - 2s 27ms/step - loss: 0.0012 - coeff_determination: -30.8391 - val_loss: 7.8429e-04 - val_coeff_determination: -33.8110\n",
      "Epoch 2/130\n",
      "24/24 [==============================] - 0s 13ms/step - loss: 8.6785e-04 - coeff_determination: -7.1956 - val_loss: 5.3612e-04 - val_coeff_determination: -16.5030\n",
      "Epoch 3/130\n",
      "24/24 [==============================] - 0s 14ms/step - loss: 6.1650e-04 - coeff_determination: -2.5725 - val_loss: 3.6565e-04 - val_coeff_determination: -9.3300\n",
      "Epoch 4/130\n",
      "24/24 [==============================] - 0s 13ms/step - loss: 4.2468e-04 - coeff_determination: -0.5169 - val_loss: 2.3528e-04 - val_coeff_determination: -8.6584\n",
      "Epoch 5/130\n",
      "24/24 [==============================] - 0s 14ms/step - loss: 3.0530e-04 - coeff_determination: 0.1556 - val_loss: 1.7677e-04 - val_coeff_determination: -3.7260\n",
      "Epoch 6/130\n",
      "24/24 [==============================] - 0s 14ms/step - loss: 2.3900e-04 - coeff_determination: 0.5237 - val_loss: 1.4079e-04 - val_coeff_determination: -2.3275\n",
      "Epoch 7/130\n",
      "24/24 [==============================] - 0s 13ms/step - loss: 2.0387e-04 - coeff_determination: 0.6723 - val_loss: 1.2440e-04 - val_coeff_determination: -1.2437\n",
      "Epoch 8/130\n",
      "24/24 [==============================] - 0s 14ms/step - loss: 1.8192e-04 - coeff_determination: 0.6926 - val_loss: 1.1101e-04 - val_coeff_determination: -1.0077\n",
      "Epoch 9/130\n",
      "24/24 [==============================] - 0s 14ms/step - loss: 1.7058e-04 - coeff_determination: 0.7761 - val_loss: 1.0500e-04 - val_coeff_determination: -0.8494\n",
      "Epoch 10/130\n",
      "24/24 [==============================] - 0s 14ms/step - loss: 1.6339e-04 - coeff_determination: 0.7882 - val_loss: 9.7296e-05 - val_coeff_determination: -1.0648\n",
      "Epoch 11/130\n",
      "24/24 [==============================] - 0s 14ms/step - loss: 1.5245e-04 - coeff_determination: 0.7971 - val_loss: 9.2080e-05 - val_coeff_determination: -0.4630\n",
      "Epoch 12/130\n",
      "24/24 [==============================] - 0s 14ms/step - loss: 1.4853e-04 - coeff_determination: 0.8102 - val_loss: 8.3261e-05 - val_coeff_determination: -0.4120\n",
      "Epoch 13/130\n",
      "24/24 [==============================] - 0s 14ms/step - loss: 1.4351e-04 - coeff_determination: 0.7243 - val_loss: 8.8420e-05 - val_coeff_determination: 0.1838\n",
      "Epoch 14/130\n",
      "24/24 [==============================] - 0s 14ms/step - loss: 1.3865e-04 - coeff_determination: 0.7920 - val_loss: 7.7834e-05 - val_coeff_determination: -0.1915\n",
      "Epoch 15/130\n",
      "24/24 [==============================] - 0s 14ms/step - loss: 1.2938e-04 - coeff_determination: 0.6126 - val_loss: 7.7731e-05 - val_coeff_determination: 0.0371\n",
      "Epoch 16/130\n",
      "24/24 [==============================] - 0s 14ms/step - loss: 1.2577e-04 - coeff_determination: 0.8195 - val_loss: 7.2278e-05 - val_coeff_determination: 0.3996\n",
      "Epoch 17/130\n",
      "24/24 [==============================] - 0s 14ms/step - loss: 1.2458e-04 - coeff_determination: 0.8533 - val_loss: 6.7951e-05 - val_coeff_determination: 0.3057\n",
      "Epoch 18/130\n",
      "24/24 [==============================] - 0s 14ms/step - loss: 1.2300e-04 - coeff_determination: 0.8433 - val_loss: 6.5499e-05 - val_coeff_determination: 0.4039\n",
      "Epoch 19/130\n",
      "24/24 [==============================] - 0s 14ms/step - loss: 1.1399e-04 - coeff_determination: 0.8182 - val_loss: 6.5000e-05 - val_coeff_determination: 0.1338\n",
      "Epoch 20/130\n",
      "24/24 [==============================] - 0s 14ms/step - loss: 1.1281e-04 - coeff_determination: 0.8318 - val_loss: 5.9534e-05 - val_coeff_determination: 0.5696\n",
      "Epoch 21/130\n",
      "24/24 [==============================] - 0s 14ms/step - loss: 1.0991e-04 - coeff_determination: 0.8637 - val_loss: 5.9517e-05 - val_coeff_determination: 0.3395\n",
      "Epoch 22/130\n",
      "24/24 [==============================] - 0s 14ms/step - loss: 1.1324e-04 - coeff_determination: 0.8593 - val_loss: 5.9357e-05 - val_coeff_determination: 0.3734\n",
      "Epoch 23/130\n",
      "24/24 [==============================] - 0s 14ms/step - loss: 1.1037e-04 - coeff_determination: 0.8413 - val_loss: 5.5917e-05 - val_coeff_determination: 0.6045\n",
      "Epoch 24/130\n",
      "24/24 [==============================] - 0s 14ms/step - loss: 1.0880e-04 - coeff_determination: 0.8651 - val_loss: 5.4096e-05 - val_coeff_determination: 0.4912\n",
      "Epoch 25/130\n",
      "24/24 [==============================] - 0s 14ms/step - loss: 1.0118e-04 - coeff_determination: 0.6337 - val_loss: 5.5350e-05 - val_coeff_determination: 0.5606\n",
      "Epoch 26/130\n",
      "24/24 [==============================] - 0s 14ms/step - loss: 9.9261e-05 - coeff_determination: 0.8659 - val_loss: 5.1617e-05 - val_coeff_determination: 0.5497\n",
      "Epoch 27/130\n",
      "24/24 [==============================] - 0s 14ms/step - loss: 9.3157e-05 - coeff_determination: 0.8964 - val_loss: 4.8432e-05 - val_coeff_determination: 0.5750\n",
      "Epoch 28/130\n",
      "24/24 [==============================] - 0s 13ms/step - loss: 9.9707e-05 - coeff_determination: 0.8665 - val_loss: 4.6492e-05 - val_coeff_determination: 0.6418\n",
      "Epoch 29/130\n",
      "24/24 [==============================] - 0s 13ms/step - loss: 1.0612e-04 - coeff_determination: 0.8798 - val_loss: 4.8987e-05 - val_coeff_determination: 0.6772\n",
      "Epoch 30/130\n",
      "24/24 [==============================] - 0s 13ms/step - loss: 1.0021e-04 - coeff_determination: 0.8903 - val_loss: 4.7292e-05 - val_coeff_determination: 0.7131\n",
      "Epoch 31/130\n",
      "24/24 [==============================] - 0s 14ms/step - loss: 9.6973e-05 - coeff_determination: 0.8880 - val_loss: 4.7477e-05 - val_coeff_determination: 0.6574\n",
      "Epoch 32/130\n",
      "24/24 [==============================] - 0s 14ms/step - loss: 9.4585e-05 - coeff_determination: 0.8692 - val_loss: 4.2570e-05 - val_coeff_determination: 0.6862\n",
      "Epoch 33/130\n",
      "24/24 [==============================] - 0s 13ms/step - loss: 9.2304e-05 - coeff_determination: 0.8954 - val_loss: 4.4071e-05 - val_coeff_determination: 0.7185\n",
      "Epoch 34/130\n",
      "24/24 [==============================] - 0s 14ms/step - loss: 9.1098e-05 - coeff_determination: 0.8646 - val_loss: 4.4933e-05 - val_coeff_determination: 0.7034\n",
      "Epoch 35/130\n",
      "24/24 [==============================] - 0s 14ms/step - loss: 8.9192e-05 - coeff_determination: 0.8979 - val_loss: 4.3640e-05 - val_coeff_determination: 0.6627\n",
      "Epoch 36/130\n",
      "24/24 [==============================] - 0s 14ms/step - loss: 9.2955e-05 - coeff_determination: 0.8627 - val_loss: 4.1043e-05 - val_coeff_determination: 0.6858\n",
      "Epoch 37/130\n",
      "24/24 [==============================] - 0s 13ms/step - loss: 9.1287e-05 - coeff_determination: 0.8957 - val_loss: 4.3212e-05 - val_coeff_determination: 0.8022\n",
      "Epoch 38/130\n",
      "24/24 [==============================] - 0s 14ms/step - loss: 9.0714e-05 - coeff_determination: 0.8067 - val_loss: 4.1057e-05 - val_coeff_determination: 0.7137\n",
      "Epoch 39/130\n",
      "24/24 [==============================] - 0s 14ms/step - loss: 9.1881e-05 - coeff_determination: 0.8803 - val_loss: 4.1006e-05 - val_coeff_determination: 0.6402\n",
      "Epoch 40/130\n",
      "24/24 [==============================] - 0s 13ms/step - loss: 8.2392e-05 - coeff_determination: 0.9117 - val_loss: 4.0483e-05 - val_coeff_determination: 0.7919\n",
      "Epoch 41/130\n",
      "24/24 [==============================] - 0s 13ms/step - loss: 8.9139e-05 - coeff_determination: 0.7779 - val_loss: 3.7355e-05 - val_coeff_determination: 0.7754\n",
      "Epoch 42/130\n",
      "24/24 [==============================] - 0s 13ms/step - loss: 8.4080e-05 - coeff_determination: 0.9040 - val_loss: 3.8140e-05 - val_coeff_determination: 0.7822\n",
      "Epoch 43/130\n",
      "24/24 [==============================] - 0s 13ms/step - loss: 8.9039e-05 - coeff_determination: 0.8639 - val_loss: 3.6503e-05 - val_coeff_determination: 0.7677\n",
      "Epoch 44/130\n",
      "24/24 [==============================] - 0s 13ms/step - loss: 8.7738e-05 - coeff_determination: 0.8811 - val_loss: 3.6525e-05 - val_coeff_determination: 0.7965\n",
      "Epoch 45/130\n",
      "24/24 [==============================] - 0s 13ms/step - loss: 8.5628e-05 - coeff_determination: 0.8980 - val_loss: 3.5988e-05 - val_coeff_determination: 0.7739\n",
      "Epoch 46/130\n",
      "24/24 [==============================] - 0s 13ms/step - loss: 8.8580e-05 - coeff_determination: 0.8919 - val_loss: 3.6548e-05 - val_coeff_determination: 0.8189\n",
      "Epoch 47/130\n",
      "24/24 [==============================] - 0s 13ms/step - loss: 8.6202e-05 - coeff_determination: 0.9057 - val_loss: 3.8302e-05 - val_coeff_determination: 0.8256\n",
      "Epoch 48/130\n"
     ]
    },
    {
     "name": "stdout",
     "output_type": "stream",
     "text": [
      "24/24 [==============================] - 0s 13ms/step - loss: 8.4596e-05 - coeff_determination: 0.9094 - val_loss: 3.5637e-05 - val_coeff_determination: 0.8343\n",
      "Epoch 49/130\n",
      "24/24 [==============================] - 0s 13ms/step - loss: 9.1681e-05 - coeff_determination: 0.8958 - val_loss: 3.4064e-05 - val_coeff_determination: 0.8091\n",
      "Epoch 50/130\n",
      "24/24 [==============================] - 0s 13ms/step - loss: 8.3479e-05 - coeff_determination: 0.8987 - val_loss: 3.5754e-05 - val_coeff_determination: 0.7970\n",
      "Epoch 51/130\n",
      "24/24 [==============================] - 0s 13ms/step - loss: 8.7311e-05 - coeff_determination: 0.7844 - val_loss: 3.3726e-05 - val_coeff_determination: 0.7567\n",
      "Epoch 52/130\n",
      "24/24 [==============================] - 0s 13ms/step - loss: 8.2490e-05 - coeff_determination: 0.7838 - val_loss: 3.3894e-05 - val_coeff_determination: 0.7743\n",
      "Epoch 53/130\n",
      "24/24 [==============================] - 0s 13ms/step - loss: 8.1168e-05 - coeff_determination: 0.9102 - val_loss: 3.4206e-05 - val_coeff_determination: 0.7772\n",
      "Epoch 54/130\n",
      "24/24 [==============================] - 0s 13ms/step - loss: 7.9390e-05 - coeff_determination: 0.8840 - val_loss: 3.3103e-05 - val_coeff_determination: 0.8071\n",
      "Epoch 55/130\n",
      "24/24 [==============================] - 0s 13ms/step - loss: 8.8222e-05 - coeff_determination: 0.8850 - val_loss: 3.3468e-05 - val_coeff_determination: 0.7867\n",
      "Epoch 56/130\n",
      "24/24 [==============================] - 0s 13ms/step - loss: 8.8457e-05 - coeff_determination: 0.9015 - val_loss: 3.2649e-05 - val_coeff_determination: 0.8152\n",
      "Epoch 57/130\n",
      "24/24 [==============================] - 0s 13ms/step - loss: 8.0806e-05 - coeff_determination: 0.8998 - val_loss: 3.2571e-05 - val_coeff_determination: 0.7928\n",
      "Epoch 58/130\n",
      "24/24 [==============================] - 0s 13ms/step - loss: 8.3247e-05 - coeff_determination: 0.9036 - val_loss: 3.4685e-05 - val_coeff_determination: 0.8268\n",
      "Epoch 59/130\n",
      "24/24 [==============================] - 0s 13ms/step - loss: 8.6983e-05 - coeff_determination: 0.9031 - val_loss: 3.2499e-05 - val_coeff_determination: 0.7694\n",
      "Epoch 60/130\n",
      "24/24 [==============================] - 0s 13ms/step - loss: 8.0241e-05 - coeff_determination: 0.9113 - val_loss: 3.0771e-05 - val_coeff_determination: 0.8179\n",
      "Epoch 61/130\n",
      "24/24 [==============================] - 0s 13ms/step - loss: 8.0408e-05 - coeff_determination: 0.8957 - val_loss: 3.2684e-05 - val_coeff_determination: 0.8008\n",
      "Epoch 62/130\n",
      "24/24 [==============================] - 0s 13ms/step - loss: 8.1554e-05 - coeff_determination: 0.8500 - val_loss: 2.9731e-05 - val_coeff_determination: 0.8447\n",
      "Epoch 63/130\n",
      "24/24 [==============================] - 0s 13ms/step - loss: 8.0828e-05 - coeff_determination: 0.9135 - val_loss: 3.2784e-05 - val_coeff_determination: 0.8486\n",
      "Epoch 64/130\n",
      "24/24 [==============================] - 0s 14ms/step - loss: 8.2770e-05 - coeff_determination: 0.8981 - val_loss: 2.9569e-05 - val_coeff_determination: 0.8417\n",
      "Epoch 65/130\n",
      "24/24 [==============================] - 0s 13ms/step - loss: 7.7943e-05 - coeff_determination: 0.8693 - val_loss: 3.0492e-05 - val_coeff_determination: 0.8348\n",
      "Epoch 66/130\n",
      "24/24 [==============================] - 0s 13ms/step - loss: 8.3508e-05 - coeff_determination: 0.8933 - val_loss: 2.9699e-05 - val_coeff_determination: 0.8731\n",
      "Epoch 67/130\n",
      "24/24 [==============================] - 0s 13ms/step - loss: 7.7670e-05 - coeff_determination: 0.9123 - val_loss: 3.0651e-05 - val_coeff_determination: 0.8433\n",
      "Epoch 68/130\n",
      "24/24 [==============================] - 0s 13ms/step - loss: 8.5807e-05 - coeff_determination: 0.8965 - val_loss: 3.0426e-05 - val_coeff_determination: 0.8472\n",
      "Epoch 69/130\n",
      "24/24 [==============================] - 0s 13ms/step - loss: 8.2348e-05 - coeff_determination: 0.9106 - val_loss: 3.0530e-05 - val_coeff_determination: 0.8779\n",
      "Epoch 70/130\n",
      "24/24 [==============================] - 0s 13ms/step - loss: 7.8473e-05 - coeff_determination: 0.8628 - val_loss: 3.0705e-05 - val_coeff_determination: 0.8408\n",
      "Epoch 71/130\n",
      "24/24 [==============================] - 0s 13ms/step - loss: 8.3195e-05 - coeff_determination: 0.8958 - val_loss: 2.7385e-05 - val_coeff_determination: 0.8684\n",
      "Epoch 72/130\n",
      "24/24 [==============================] - 0s 13ms/step - loss: 8.0976e-05 - coeff_determination: 0.8625 - val_loss: 3.1026e-05 - val_coeff_determination: 0.8380\n",
      "Epoch 73/130\n",
      "24/24 [==============================] - 0s 13ms/step - loss: 7.9924e-05 - coeff_determination: 0.9120 - val_loss: 3.0495e-05 - val_coeff_determination: 0.8626\n",
      "Epoch 74/130\n",
      "24/24 [==============================] - 0s 13ms/step - loss: 8.0570e-05 - coeff_determination: 0.9132 - val_loss: 2.9009e-05 - val_coeff_determination: 0.8232\n",
      "Epoch 75/130\n",
      "24/24 [==============================] - 0s 13ms/step - loss: 7.9121e-05 - coeff_determination: 0.8720 - val_loss: 2.7520e-05 - val_coeff_determination: 0.8580\n",
      "Epoch 76/130\n",
      "24/24 [==============================] - 0s 13ms/step - loss: 7.8943e-05 - coeff_determination: 0.9017 - val_loss: 2.8422e-05 - val_coeff_determination: 0.8884\n",
      "Epoch 77/130\n",
      "24/24 [==============================] - 0s 13ms/step - loss: 8.1899e-05 - coeff_determination: 0.8951 - val_loss: 2.7627e-05 - val_coeff_determination: 0.8774\n",
      "Epoch 78/130\n",
      "24/24 [==============================] - 0s 13ms/step - loss: 7.7603e-05 - coeff_determination: 0.8281 - val_loss: 2.9079e-05 - val_coeff_determination: 0.8593\n",
      "Epoch 79/130\n",
      "24/24 [==============================] - 0s 13ms/step - loss: 7.7317e-05 - coeff_determination: 0.9162 - val_loss: 2.7955e-05 - val_coeff_determination: 0.9024\n",
      "Epoch 80/130\n",
      "24/24 [==============================] - 0s 13ms/step - loss: 7.6459e-05 - coeff_determination: 0.9119 - val_loss: 2.6248e-05 - val_coeff_determination: 0.8700\n",
      "Epoch 81/130\n",
      "24/24 [==============================] - 0s 13ms/step - loss: 7.9376e-05 - coeff_determination: 0.9123 - val_loss: 2.6641e-05 - val_coeff_determination: 0.8654\n",
      "Epoch 82/130\n",
      "24/24 [==============================] - 0s 13ms/step - loss: 7.5782e-05 - coeff_determination: 0.9091 - val_loss: 2.6609e-05 - val_coeff_determination: 0.8732\n",
      "Epoch 83/130\n",
      "24/24 [==============================] - 0s 13ms/step - loss: 7.8233e-05 - coeff_determination: 0.9030 - val_loss: 2.7479e-05 - val_coeff_determination: 0.8751\n",
      "Epoch 84/130\n",
      "24/24 [==============================] - 0s 13ms/step - loss: 7.4383e-05 - coeff_determination: 0.9168 - val_loss: 2.8381e-05 - val_coeff_determination: 0.8920\n",
      "Epoch 85/130\n",
      "24/24 [==============================] - 0s 13ms/step - loss: 7.4254e-05 - coeff_determination: 0.8972 - val_loss: 2.8346e-05 - val_coeff_determination: 0.8322\n",
      "Epoch 86/130\n",
      "24/24 [==============================] - 0s 13ms/step - loss: 7.9953e-05 - coeff_determination: 0.8752 - val_loss: 2.7134e-05 - val_coeff_determination: 0.8815\n",
      "Epoch 87/130\n",
      "24/24 [==============================] - 0s 13ms/step - loss: 7.8130e-05 - coeff_determination: 0.7803 - val_loss: 2.5782e-05 - val_coeff_determination: 0.8904\n",
      "Epoch 88/130\n",
      "24/24 [==============================] - 0s 13ms/step - loss: 7.7348e-05 - coeff_determination: 0.9141 - val_loss: 2.5469e-05 - val_coeff_determination: 0.8865\n",
      "Epoch 89/130\n",
      "24/24 [==============================] - 0s 13ms/step - loss: 8.2744e-05 - coeff_determination: 0.8845 - val_loss: 2.5827e-05 - val_coeff_determination: 0.8755\n",
      "Epoch 90/130\n",
      "24/24 [==============================] - 0s 13ms/step - loss: 7.6743e-05 - coeff_determination: 0.8752 - val_loss: 2.6154e-05 - val_coeff_determination: 0.8600\n",
      "Epoch 91/130\n",
      "24/24 [==============================] - 0s 13ms/step - loss: 7.6533e-05 - coeff_determination: 0.9142 - val_loss: 2.7569e-05 - val_coeff_determination: 0.8815\n",
      "Epoch 92/130\n",
      "24/24 [==============================] - 0s 13ms/step - loss: 7.5130e-05 - coeff_determination: 0.9206 - val_loss: 2.6328e-05 - val_coeff_determination: 0.8907\n",
      "Epoch 93/130\n",
      "24/24 [==============================] - 0s 13ms/step - loss: 7.5998e-05 - coeff_determination: 0.9114 - val_loss: 2.5816e-05 - val_coeff_determination: 0.8805\n",
      "Epoch 94/130\n",
      "24/24 [==============================] - 0s 13ms/step - loss: 7.3284e-05 - coeff_determination: 0.8967 - val_loss: 2.6092e-05 - val_coeff_determination: 0.8634\n",
      "Epoch 95/130\n"
     ]
    },
    {
     "name": "stdout",
     "output_type": "stream",
     "text": [
      "24/24 [==============================] - 0s 13ms/step - loss: 7.3352e-05 - coeff_determination: 0.7339 - val_loss: 2.5614e-05 - val_coeff_determination: 0.9002\n",
      "Epoch 96/130\n",
      "24/24 [==============================] - 0s 14ms/step - loss: 7.4854e-05 - coeff_determination: 0.9011 - val_loss: 2.4533e-05 - val_coeff_determination: 0.8897\n",
      "Epoch 97/130\n",
      "24/24 [==============================] - 0s 13ms/step - loss: 7.8011e-05 - coeff_determination: 0.9182 - val_loss: 2.7782e-05 - val_coeff_determination: 0.8317\n",
      "Epoch 98/130\n",
      "24/24 [==============================] - 0s 13ms/step - loss: 7.6778e-05 - coeff_determination: 0.9201 - val_loss: 2.5649e-05 - val_coeff_determination: 0.8979\n",
      "Epoch 99/130\n",
      "24/24 [==============================] - 0s 13ms/step - loss: 8.0821e-05 - coeff_determination: 0.9127 - val_loss: 2.4458e-05 - val_coeff_determination: 0.9079\n",
      "Epoch 100/130\n",
      "24/24 [==============================] - 0s 13ms/step - loss: 7.4643e-05 - coeff_determination: 0.9203 - val_loss: 2.7413e-05 - val_coeff_determination: 0.8406\n",
      "Epoch 101/130\n",
      "24/24 [==============================] - 0s 13ms/step - loss: 7.6775e-05 - coeff_determination: 0.9073 - val_loss: 2.5318e-05 - val_coeff_determination: 0.9132\n",
      "Epoch 102/130\n",
      "24/24 [==============================] - 0s 13ms/step - loss: 7.5526e-05 - coeff_determination: 0.9097 - val_loss: 2.5285e-05 - val_coeff_determination: 0.8874\n",
      "Epoch 103/130\n",
      "24/24 [==============================] - 0s 13ms/step - loss: 7.1507e-05 - coeff_determination: 0.9152 - val_loss: 2.5700e-05 - val_coeff_determination: 0.8666\n",
      "Epoch 104/130\n",
      "24/24 [==============================] - 0s 13ms/step - loss: 7.4019e-05 - coeff_determination: 0.9183 - val_loss: 2.5304e-05 - val_coeff_determination: 0.8821\n",
      "Epoch 105/130\n",
      "24/24 [==============================] - 0s 13ms/step - loss: 7.2681e-05 - coeff_determination: 0.9209 - val_loss: 2.4422e-05 - val_coeff_determination: 0.9037\n",
      "Epoch 106/130\n",
      "24/24 [==============================] - 0s 13ms/step - loss: 7.4660e-05 - coeff_determination: 0.9143 - val_loss: 2.3899e-05 - val_coeff_determination: 0.8936\n",
      "Epoch 107/130\n",
      "24/24 [==============================] - 0s 13ms/step - loss: 7.6034e-05 - coeff_determination: 0.9158 - val_loss: 2.3353e-05 - val_coeff_determination: 0.9196\n",
      "Epoch 108/130\n",
      "24/24 [==============================] - 0s 13ms/step - loss: 7.6421e-05 - coeff_determination: 0.8944 - val_loss: 2.4368e-05 - val_coeff_determination: 0.8857\n",
      "Epoch 109/130\n",
      "24/24 [==============================] - 0s 13ms/step - loss: 7.7893e-05 - coeff_determination: 0.9100 - val_loss: 2.3778e-05 - val_coeff_determination: 0.8857\n",
      "Epoch 110/130\n",
      "24/24 [==============================] - 0s 13ms/step - loss: 7.1344e-05 - coeff_determination: 0.9149 - val_loss: 2.3869e-05 - val_coeff_determination: 0.9011\n",
      "Epoch 111/130\n",
      "24/24 [==============================] - 0s 13ms/step - loss: 7.6414e-05 - coeff_determination: 0.9172 - val_loss: 2.4595e-05 - val_coeff_determination: 0.8696\n",
      "Epoch 112/130\n",
      "24/24 [==============================] - 0s 14ms/step - loss: 7.9784e-05 - coeff_determination: 0.8858 - val_loss: 2.3437e-05 - val_coeff_determination: 0.8955\n",
      "Epoch 113/130\n",
      "24/24 [==============================] - 0s 13ms/step - loss: 7.8971e-05 - coeff_determination: 0.9090 - val_loss: 2.4123e-05 - val_coeff_determination: 0.9065\n",
      "Epoch 114/130\n",
      "24/24 [==============================] - 0s 13ms/step - loss: 7.7491e-05 - coeff_determination: 0.8907 - val_loss: 2.3508e-05 - val_coeff_determination: 0.8758\n",
      "Epoch 115/130\n",
      "24/24 [==============================] - 0s 14ms/step - loss: 7.4389e-05 - coeff_determination: 0.9217 - val_loss: 2.3828e-05 - val_coeff_determination: 0.9027\n",
      "Epoch 116/130\n",
      "24/24 [==============================] - 0s 13ms/step - loss: 7.5139e-05 - coeff_determination: 0.9182 - val_loss: 2.3439e-05 - val_coeff_determination: 0.8960\n",
      "Epoch 117/130\n",
      "24/24 [==============================] - 0s 13ms/step - loss: 7.7642e-05 - coeff_determination: 0.9008 - val_loss: 2.2151e-05 - val_coeff_determination: 0.9070\n",
      "Epoch 118/130\n",
      "24/24 [==============================] - 0s 13ms/step - loss: 7.4801e-05 - coeff_determination: 0.9155 - val_loss: 2.5654e-05 - val_coeff_determination: 0.8599\n",
      "Epoch 119/130\n",
      "24/24 [==============================] - 0s 13ms/step - loss: 7.5224e-05 - coeff_determination: 0.9189 - val_loss: 2.2251e-05 - val_coeff_determination: 0.9014\n",
      "Epoch 120/130\n",
      "24/24 [==============================] - 0s 13ms/step - loss: 7.8123e-05 - coeff_determination: 0.9156 - val_loss: 2.2722e-05 - val_coeff_determination: 0.9035\n",
      "Epoch 121/130\n",
      "24/24 [==============================] - 0s 13ms/step - loss: 7.7074e-05 - coeff_determination: 0.8919 - val_loss: 2.2685e-05 - val_coeff_determination: 0.9030\n",
      "Epoch 122/130\n",
      "24/24 [==============================] - 0s 14ms/step - loss: 7.2557e-05 - coeff_determination: 0.9193 - val_loss: 2.2086e-05 - val_coeff_determination: 0.9122\n",
      "Epoch 123/130\n",
      "24/24 [==============================] - 0s 13ms/step - loss: 7.1948e-05 - coeff_determination: 0.9109 - val_loss: 2.1902e-05 - val_coeff_determination: 0.9263\n",
      "Epoch 124/130\n",
      "24/24 [==============================] - 0s 13ms/step - loss: 7.8716e-05 - coeff_determination: 0.9102 - val_loss: 2.1563e-05 - val_coeff_determination: 0.9056\n",
      "Epoch 125/130\n",
      "24/24 [==============================] - 0s 13ms/step - loss: 7.0906e-05 - coeff_determination: 0.9248 - val_loss: 2.2551e-05 - val_coeff_determination: 0.9076\n",
      "Epoch 126/130\n",
      "24/24 [==============================] - 0s 13ms/step - loss: 7.5398e-05 - coeff_determination: 0.9156 - val_loss: 2.0951e-05 - val_coeff_determination: 0.9110\n",
      "Epoch 127/130\n",
      "24/24 [==============================] - 0s 13ms/step - loss: 7.6232e-05 - coeff_determination: 0.9177 - val_loss: 2.1733e-05 - val_coeff_determination: 0.9158\n",
      "Epoch 128/130\n",
      "24/24 [==============================] - 0s 14ms/step - loss: 7.6204e-05 - coeff_determination: 0.9168 - val_loss: 2.3103e-05 - val_coeff_determination: 0.9027\n",
      "Epoch 129/130\n",
      "24/24 [==============================] - 0s 14ms/step - loss: 7.7266e-05 - coeff_determination: 0.9039 - val_loss: 2.3425e-05 - val_coeff_determination: 0.9071\n",
      "Epoch 130/130\n",
      "24/24 [==============================] - 0s 13ms/step - loss: 7.7439e-05 - coeff_determination: 0.6869 - val_loss: 2.4070e-05 - val_coeff_determination: 0.9038\n"
     ]
    }
   ],
   "source": [
    "idx = 0\n",
    "# train the network\n",
    "pod_emulation.model_train(idx,\n",
    " \tdata_train=data_train, \n",
    " \tdata_valid=data_test,\n",
    " \tplotHistory=False\n",
    " \t)\n"
   ]
  },
  {
   "cell_type": "markdown",
   "metadata": {},
   "source": [
    "After that the neural network has been trained, predictions of the coefficients can be extracted with the aid of the `pod_emulation.model_inference` routine. This receives as inputs:\n",
    "- `idx`: integer, a value which identify a previously trained neural network (in this case 0, since we have only one neural network)\n",
    "- `data_input`: data which are used to start the prediction. This array can have an arbitary length. The first `n_seq_in` data are copied in the output vector and used for predicting the next `n_seq_out` steps\n",
    "\n",
    "The output consists in a vector which has the same dimensions of data_input and contains the predicted scaled coefficients.\n",
    "\n",
    "The predicted coefficients are then scaled back by calling `utils.denormalize_dataReal."
   ]
  },
  {
   "cell_type": "code",
   "execution_count": 11,
   "metadata": {},
   "outputs": [
    {
     "name": "stderr",
     "output_type": "stream",
     "text": [
      "model_inference_real: 100%|██████████████████████████████████████████████████████████████████████████████████████████████████████████████████████████████████████████████████████| 140/140 [00:03<00:00, 36.59it/s]\n",
      "/var/folders/mz/57p2w1h12b915wh_7d77r9wc0000gn/T/ipykernel_71295/4023388671.py:4: ComplexWarning: Casting complex values to real discards the imaginary part\n",
      "  coeffs_emul[:,:] = utils.denormalize_dataReal(coeffs_tmp, scaler)\n"
     ]
    }
   ],
   "source": [
    "coeffs_tmp = pod_emulation.model_inference(\n",
    "\tidx, data_input=data_test\n",
    "\t)\n",
    "coeffs_emul[:,:] = utils.denormalize_dataReal(coeffs_tmp, scaler)"
   ]
  },
  {
   "cell_type": "markdown",
   "metadata": {},
   "source": [
    "Now we have two distinct types of coefficients which we can use for reconstructing the snaptshots contained in X_test:\n",
    "- `coeffs_test`: the ones which were obtained by projecting the snapshot on the POD basis\n",
    "- `emul_coeffs`: the ones which were obtained with the prediction of the LSTM-based neural network.\n",
    "\n",
    "Fields are reconstructed and stored in a proper numpy array by calling `reconstruct_data` and providing the following input:\n",
    "- `coeffs`: the coefficients to be used for reconstructing the fields\n",
    "- `phi_tilde`: a structure containing the modes computed in the `transform` function\n",
    "- `time_mean`: the mean flow previously computed with the `transform` function"
   ]
  },
  {
   "cell_type": "code",
   "execution_count": 12,
   "metadata": {},
   "outputs": [
    {
     "name": "stdout",
     "output_type": "stream",
     "text": [
      "coeffs.shape =  (8, 200)\n",
      "coeffs.shape =  (8, 200)\n"
     ]
    }
   ],
   "source": [
    "phi_tilde = coeffs_train['phi_tilde']\n",
    "time_mean = coeffs_train['time_mean']\n",
    "\n",
    "proj_rec = pod.reconstruct_data(\n",
    "\t\tcoeffs=coeffs_test[:,:], \n",
    "\t\tphi_tilde=coeffs_train['phi_tilde'],\n",
    "\t\ttime_mean=coeffs_train['time_mean']\n",
    "\t)\n",
    "\n",
    "emulation_rec = pod.reconstruct_data(\n",
    "\t\tcoeffs= coeffs_emul, \n",
    "\t\tphi_tilde=coeffs_train['phi_tilde'],\n",
    "\t\ttime_mean=coeffs_train['time_mean']\n",
    "\t)\n"
   ]
  },
  {
   "cell_type": "markdown",
   "metadata": {},
   "source": [
    "## Output "
   ]
  },
  {
   "cell_type": "markdown",
   "metadata": {},
   "source": [
    "In the last section of the code, some routines are placed for visulizing some results and computing the errors.\n",
    "\n",
    "`pod.printErrors`: compute and print L1, L2, and $L_{\\inf}$ average norm error for both the learning and the projection error. \n",
    "In intput the following input are required:\n",
    "- `field_test`: \"true\" solutions, it is a snapshot which belong to the original dataset \n",
    "- `field_proj`: fields reconstructed using the coeffs_test, from the comparison between this database and the one containing the true solutions we can evalute the projection error\n",
    "- `field_emul`: fields reconstructed using the coeffs_emul; from the comparison between this database and the field_proj we can evalute the learning error; from the comparison between this database and the one containing the true solutions we can evalute the total error.\n",
    "- `n_snaps`: number of snapshots on which the errors are evaluated \n",
    "- `n_offset`: offset\n",
    "\n",
    "`pod.plot_compareTimeSeries`: compare time series, it is here used for comparing actual coefficients and the learned ones. It requires in input: two time series, two labels of the time series, legendLocation(otpional), and the filename (optional)\n",
    "\n",
    "`pod.generate_2D_subplot`: generate subpolts for visualizing the snapshots. It can show 1, 2 or 3 fields in the same frame. Inputs:\n",
    "- `title1`: title associated to the first snapshot\n",
    "- `title2`: title associated to the second snapshot (optional)\n",
    "- `title3`: title associated to the third snapshot (optional)\n",
    "- `var1`: 2D array of dimenions $20\\times88$ that we want to plot\n",
    "- `var2`: 2D array of dimenions $20\\times88$ that we want to plot (optional)\n",
    "- `var3`: 2D array of dimenions $20\\times88$ that we want to plot (optional)\n",
    "- `N_round`: number of decimals one wants to keep in the legend (optional)\n",
    "- `path`: path where one wants to store the results(optional)\n",
    "- `filename`: name of the file where to save the plot(optional)"
   ]
  },
  {
   "cell_type": "code",
   "execution_count": 13,
   "metadata": {},
   "outputs": [
    {
     "name": "stdout",
     "output_type": "stream",
     "text": [
      "Avg L2 error projection vs true solution: 0.00010408893329508038\n",
      "Avg L2 error lstm prediction vs projection: 1.1225104409145224e-05\n",
      "Avg L2 error lstm prediction vs true solution: 0.00010472896333363714\n",
      "Avg L1 error projection vs true solution: 0.002651615270951341\n",
      "Avg L1 error lstm prediction vs projection: 0.00024181133763099313\n",
      "Avg L1 error lstm prediction vs true solution: 0.002671110640786702\n",
      "Avg Linf error projection vs true solution: 0.02768170784823768\n",
      "Avg Linf error lstm prediction vs projection: 0.0025340864061300385\n",
      "Avg Linf error lstm prediction vs true solution: 0.027707721491312308\n"
     ]
    },
    {
     "data": {
      "image/png": "[encoded data removed]",
      "text/plain": [
       "<Figure size 432x288 with 1 Axes>"
      ]
     },
     "metadata": {
      "needs_background": "light"
     },
     "output_type": "display_data"
    },
    {
     "data": {
      "image/png": "[encoded data removed]",
      "text/plain": [
       "<Figure size 720x576 with 6 Axes>"
      ]
     },
     "metadata": {
      "needs_background": "light"
     },
     "output_type": "display_data"
    }
   ],
   "source": [
    "pod.printErrors(field_test=X_test, field_proj=proj_rec, field_emul=emulation_rec, n_snaps = 100, n_offset = 100)\n",
    "\n",
    "# routines for visualization\n",
    "pod.plot_compareTimeSeries(\n",
    "\t\t\t  serie1= coeffs_test[0,:],\n",
    "\t\t\t  serie2= coeffs_emul[0,:],\n",
    "\t\t\t  label1='test',\n",
    "\t\t\t  label2='lstm',\n",
    "\t\t\t  legendLocation = 'upper left',\n",
    "\t\t\t  filename=None)\n",
    "\n",
    "pod.generate_2D_subplot(\n",
    "\ttitle1='True solution', \n",
    "\ttitle2='Projection-based solution', \n",
    "\ttitle3='LSTM-based solution',\n",
    "\tvar1=X_test[100,:,:], \n",
    "\tvar2=proj_rec[100,:,:,0], \n",
    "\tvar3=emulation_rec[100,:,:,0], \n",
    "\tN_round=2, path='CWD', filename=None\n",
    ")\n",
    "\n"
   ]
  },
  {
   "cell_type": "code",
   "execution_count": null,
   "metadata": {},
   "outputs": [],
   "source": []
  },
  {
   "cell_type": "code",
   "execution_count": null,
   "metadata": {},
   "outputs": [],
   "source": []
  }
 ],
 "metadata": {
  "kernelspec": {
   "display_name": "Python 3 (ipykernel)",
   "language": "python",
   "name": "python3"
  },
  "language_info": {
   "codemirror_mode": {
    "name": "ipython",
    "version": 3
   },
   "file_extension": ".py",
   "mimetype": "text/x-python",
   "name": "python",
   "nbconvert_exporter": "python",
   "pygments_lexer": "ipython3",
   "version": "3.9.7"
  }
 },
 "nbformat": 4,
 "nbformat_minor": 2
}
