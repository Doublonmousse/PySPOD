{
 "cells": [
  {
   "cell_type": "markdown",
   "metadata": {},
   "source": [
    "## Tutorial for multivariate climate data"
   ]
  },
  {
   "cell_type": "markdown",
   "metadata": {},
   "source": [
    "Import required packages"
   ]
  },
  {
   "cell_type": "code",
   "execution_count": 17,
   "metadata": {},
   "outputs": [
    {
     "ename": "ModuleNotFoundError",
     "evalue": "No module named 'library.weightings'",
     "output_type": "error",
     "traceback": [
      "\u001b[0;31m---------------------------------------------------------------------------\u001b[0m",
      "\u001b[0;31mModuleNotFoundError\u001b[0m                       Traceback (most recent call last)",
      "\u001b[0;32m<ipython-input-17-fa9058dd70b3>\u001b[0m in \u001b[0;36m<module>\u001b[0;34m\u001b[0m\n\u001b[1;32m     12\u001b[0m \u001b[0;32mfrom\u001b[0m \u001b[0mlibrary\u001b[0m\u001b[0;34m.\u001b[0m\u001b[0mspod_low_ram\u001b[0m     \u001b[0;32mimport\u001b[0m \u001b[0mSPOD_low_ram\u001b[0m\u001b[0;34m\u001b[0m\u001b[0;34m\u001b[0m\u001b[0m\n\u001b[1;32m     13\u001b[0m \u001b[0;32mfrom\u001b[0m \u001b[0mlibrary\u001b[0m\u001b[0;34m.\u001b[0m\u001b[0mspod_streaming\u001b[0m   \u001b[0;32mimport\u001b[0m \u001b[0mSPOD_streaming\u001b[0m\u001b[0;34m\u001b[0m\u001b[0;34m\u001b[0m\u001b[0m\n\u001b[0;32m---> 14\u001b[0;31m \u001b[0;32mimport\u001b[0m \u001b[0mlibrary\u001b[0m\u001b[0;34m.\u001b[0m\u001b[0mweightings\u001b[0m \u001b[0;32mas\u001b[0m \u001b[0mspod_weighting\u001b[0m\u001b[0;34m\u001b[0m\u001b[0;34m\u001b[0m\u001b[0m\n\u001b[0m\u001b[1;32m     15\u001b[0m \u001b[0;34m\u001b[0m\u001b[0m\n\u001b[1;32m     16\u001b[0m \u001b[0;31m# Current, parent and file paths\u001b[0m\u001b[0;34m\u001b[0m\u001b[0;34m\u001b[0m\u001b[0;34m\u001b[0m\u001b[0m\n",
      "\u001b[0;31mModuleNotFoundError\u001b[0m: No module named 'library.weightings'"
     ]
    }
   ],
   "source": [
    "import os\n",
    "import sys\n",
    "import time\n",
    "import warnings\n",
    "import xarray as xr\n",
    "import numpy  as np\n",
    "from pathlib import Path\n",
    "\n",
    "# Import library specific modules\n",
    "sys.path.append(\"../../\")\n",
    "from library.spod_low_storage import SPOD_low_storage\n",
    "from library.spod_low_ram     import SPOD_low_ram\n",
    "from library.spod_streaming   import SPOD_streaming\n",
    "import library.weightings as spod_weighting\n",
    "\n",
    "# Current, parent and file paths\n",
    "CWD = os.getcwd()"
   ]
  },
  {
   "cell_type": "code",
   "execution_count": 18,
   "metadata": {},
   "outputs": [
    {
     "name": "stdout",
     "output_type": "stream",
     "text": [
      "<xarray.Dataset>\n",
      "Dimensions:    (latitude: 121, longitude: 240, time: 1332)\n",
      "Coordinates:\n",
      "  * longitude  (longitude) float32 0.0 1.5 3.0 4.5 ... 354.0 355.5 357.0 358.5\n",
      "  * latitude   (latitude) float32 90.0 88.5 87.0 85.5 ... -87.0 -88.5 -90.0\n",
      "  * time       (time) datetime64[ns] 1900-01-01 1900-02-01 ... 2010-12-01\n",
      "Data variables:\n",
      "    sst        (time, latitude, longitude) float32 ...\n",
      "    msl        (time, latitude, longitude) float32 ...\n",
      "    tcc        (time, latitude, longitude) float32 ...\n",
      "    u10        (time, latitude, longitude) float32 ...\n",
      "    v10        (time, latitude, longitude) float32 ...\n",
      "    t2m        (time, latitude, longitude) float32 ...\n",
      "Attributes:\n",
      "    Conventions:  CF-1.6\n",
      "    history:      2020-10-25 20:57:11 GMT by grib_to_netcdf-2.19.0: grib_to_n...\n"
     ]
    }
   ],
   "source": [
    "# Inspect and load data \n",
    "file = '/Users/gian/Desktop/SEOF_reanalysis-master/data/E20C/E20C_MONTHLYMEAN00_1900_2010_MEI.nc'\n",
    "\n",
    "# Data is in netCDF format: \n",
    "# we use xarray to load the dataset and extract its content\n",
    "ds = xr.open_dataset(file)\n",
    "\n",
    "# Let's take a look at its content\n",
    "print(ds)"
   ]
  },
  {
   "cell_type": "markdown",
   "metadata": {},
   "source": [
    "the netCDF file contains 3 coordinates:\n",
    "- longitude\n",
    "- latitude, and \n",
    "- time, \n",
    "\n",
    "along with 6 variables\n",
    "\n",
    "- sst (sea surface temperature)\n",
    "- msl (mean seal level pressure)\n",
    "- tcc (total cloud cover)\n",
    "- u10 (horizontal velocity; u-component)\n",
    "- v10 (horizontal velocity; v-component)\n",
    "- t2m (2-meters temperature)"
   ]
  },
  {
   "cell_type": "code",
   "execution_count": 11,
   "metadata": {},
   "outputs": [
    {
     "name": "stdout",
     "output_type": "stream",
     "text": [
      "(1332, 240, 121, 6)\n"
     ]
    }
   ],
   "source": [
    "# we set the variables we want to use for the analysis\n",
    "# (we select all the variables present)\n",
    "variables = ['sst', 'msl', 'tcc', 'u10', 'v10', 't2m']\n",
    "\n",
    "# we extract time, longitude and latitude\n",
    "t = np.array(ds['time'])\n",
    "x1 = np.array(ds['longitude'])\n",
    "x2 = np.array(ds['latitude'])\n",
    "\n",
    "# and load data in RAM \n",
    "X = np.empty([t.shape[0], x1.shape[0], x2.shape[0], len(variables)])\n",
    "for i,var in enumerate(variables):\n",
    "\tX[...,i] = np.einsum('ijk->ikj', np.array(ds[var]))\n",
    "\tX[...,i] = np.nan_to_num(X[...,i])\n",
    "\n",
    "# let's take a look at the shape of the data loaded in memory\n",
    "print(X.shape)"
   ]
  },
  {
   "cell_type": "markdown",
   "metadata": {},
   "source": [
    "Note that: \n",
    "- the first dimension is 1332, and corresponds to the number of time snapshots; \n",
    "- the second is 240, and corresponds to the longitude points;\n",
    "- the third is 121, and corresponds to the latitude point;\n",
    "- the fourth is 6, and corresponds to the number of variables.\n",
    "\n",
    "Indeed, we use as first dimension the number of time snapshots, as last dimension the number of variables and as middle dimensions, the spatial dimensions, that in our case are two and correspond to longitude and latitude."
   ]
  },
  {
   "cell_type": "code",
   "execution_count": 13,
   "metadata": {},
   "outputs": [
    {
     "ename": "NameError",
     "evalue": "name 'spod_weigthing' is not defined",
     "output_type": "error",
     "traceback": [
      "\u001b[0;31m---------------------------------------------------------------------------\u001b[0m",
      "\u001b[0;31mNameError\u001b[0m                                 Traceback (most recent call last)",
      "\u001b[0;32m<ipython-input-13-811c280a448e>\u001b[0m in \u001b[0;36m<module>\u001b[0;34m\u001b[0m\n\u001b[1;32m     13\u001b[0m \u001b[0mparams\u001b[0m\u001b[0;34m[\u001b[0m\u001b[0;34m'normalize'\u001b[0m   \u001b[0;34m]\u001b[0m \u001b[0;34m=\u001b[0m \u001b[0;32mTrue\u001b[0m        \u001b[0;31m# normalization of weights by data variance\u001b[0m\u001b[0;34m\u001b[0m\u001b[0;34m\u001b[0m\u001b[0m\n\u001b[1;32m     14\u001b[0m \u001b[0mparams\u001b[0m\u001b[0;34m[\u001b[0m\u001b[0;34m'savedir'\u001b[0m     \u001b[0;34m]\u001b[0m \u001b[0;34m=\u001b[0m \u001b[0mos\u001b[0m\u001b[0;34m.\u001b[0m\u001b[0mpath\u001b[0m\u001b[0;34m.\u001b[0m\u001b[0mjoin\u001b[0m\u001b[0;34m(\u001b[0m\u001b[0mCWD\u001b[0m\u001b[0;34m,\u001b[0m \u001b[0;34m'results'\u001b[0m\u001b[0;34m,\u001b[0m \u001b[0mPath\u001b[0m\u001b[0;34m(\u001b[0m\u001b[0mfile\u001b[0m\u001b[0;34m)\u001b[0m\u001b[0;34m.\u001b[0m\u001b[0mstem\u001b[0m\u001b[0;34m)\u001b[0m \u001b[0;31m# folder where to save results\u001b[0m\u001b[0;34m\u001b[0m\u001b[0;34m\u001b[0m\u001b[0m\n\u001b[0;32m---> 15\u001b[0;31m params['weights'] = spod_weigthing.geo_weights_trapz_2D(\\\n\u001b[0m\u001b[1;32m     16\u001b[0m     \u001b[0mlat\u001b[0m\u001b[0;34m=\u001b[0m\u001b[0mx2\u001b[0m\u001b[0;34m,\u001b[0m\u001b[0;34m\u001b[0m\u001b[0;34m\u001b[0m\u001b[0m\n\u001b[1;32m     17\u001b[0m     \u001b[0mlon\u001b[0m\u001b[0;34m=\u001b[0m\u001b[0mx1\u001b[0m\u001b[0;34m,\u001b[0m\u001b[0;34m\u001b[0m\u001b[0;34m\u001b[0m\u001b[0m\n",
      "\u001b[0;31mNameError\u001b[0m: name 'spod_weigthing' is not defined"
     ]
    }
   ],
   "source": [
    "# define required and optional parameters\n",
    "params = dict()\n",
    "\n",
    "# required parameters\n",
    "params['dt'          ] = 720 # data time-sampling\n",
    "params['nt'          ] = 300 # number of time snapshots\n",
    "params['xdim'        ] = 2   # number of spatial dimensions (longitude and latitude)\n",
    "params['nv'          ] = len(variables)           # number of variables\n",
    "params['n_FFT'       ] = np.ceil(12 * 5)          # length of FFT blocks\n",
    "params['n_freq'      ] = params['n_FFT'] / 2 + 1  # number of frequencies \n",
    "params['n_overlap'   ] = np.ceil(params['n_FFT'] * 0 / 100) # dimension block overlap region\n",
    "params['mean'        ] = 'blockwise' # type of mean to subtract to the data\n",
    "params['normalize'   ] = True        # normalization of weights by data variance \n",
    "params['savedir'     ] = os.path.join(CWD, 'results', Path(file).stem) # folder where to save results\n",
    "params['weights'] = spod_weigthing.geo_weights_trapz_2D(\\\n",
    "    lat=x2, \n",
    "    lon=x1, \n",
    "    R=1, \n",
    "    n_vars=params['nv']) # weights\n",
    "\n",
    "# optional parameters\n",
    "params['savefreqs'   ] = np.arange(0,params['n_freq']) # frequencies to be saved\n",
    "params['n_modes_save'] = 3      # modes to be saved\n",
    "params['normvar'     ] = False  # normalize data by data variance\n",
    "params['conf_level'  ] = 0.95   # calculate confidence level\n",
    "params['savefft'     ] = False  # save FFT blocks to reuse them in the future (saves time)\n",
    "\n",
    "# Normalize data if required\n",
    "if params['normalize']:\n",
    "\tparams['weights'] = \\\n",
    "        spod_utils.apply_normalization(\\\n",
    "            X=X, \n",
    "            weights=params['weights'], \n",
    "            method='variance')"
   ]
  },
  {
   "cell_type": "code",
   "execution_count": null,
   "metadata": {},
   "outputs": [],
   "source": [
    "# Perform SPOD analysis using low storage module\n",
    "SPOD_analysis = SPOD_low_storage(X=X, params=params, file_handler=False)\n",
    "spod = SPOD_analysis.fit()"
   ]
  },
  {
   "cell_type": "code",
   "execution_count": null,
   "metadata": {},
   "outputs": [],
   "source": [
    "# Show results\n",
    "T_approx = 876 # approximate period (in days)\n",
    "freq_found, freq_idx = spod.find_nearest_freq(freq_required=1/T_approx, freq=spod.freq)\n",
    "modes_at_freq = spod.get_modes_at_freq(freq_idx=freq_idx)"
   ]
  },
  {
   "cell_type": "code",
   "execution_count": null,
   "metadata": {},
   "outputs": [],
   "source": [
    "spod.plot_eigs()"
   ]
  },
  {
   "cell_type": "code",
   "execution_count": null,
   "metadata": {},
   "outputs": [],
   "source": [
    "freq = spod.freq*24\n",
    "spod.plot_eigs_vs_frequency(freq=freq)"
   ]
  },
  {
   "cell_type": "code",
   "execution_count": 6,
   "metadata": {},
   "outputs": [
    {
     "ename": "NameError",
     "evalue": "name 'spod' is not defined",
     "output_type": "error",
     "traceback": [
      "\u001b[0;31m---------------------------------------------------------------------------\u001b[0m",
      "\u001b[0;31mNameError\u001b[0m                                 Traceback (most recent call last)",
      "\u001b[0;32m<ipython-input-6-ed23fa6ca444>\u001b[0m in \u001b[0;36m<module>\u001b[0;34m\u001b[0m\n\u001b[0;32m----> 1\u001b[0;31m \u001b[0mspod\u001b[0m\u001b[0;34m.\u001b[0m\u001b[0mplot_eigs_vs_period\u001b[0m   \u001b[0;34m(\u001b[0m\u001b[0mfreq\u001b[0m\u001b[0;34m=\u001b[0m\u001b[0mfreq\u001b[0m\u001b[0;34m,\u001b[0m \u001b[0mxticks\u001b[0m\u001b[0;34m=\u001b[0m\u001b[0;34m[\u001b[0m\u001b[0;36m1\u001b[0m\u001b[0;34m,\u001b[0m \u001b[0;36m7\u001b[0m\u001b[0;34m,\u001b[0m \u001b[0;36m30\u001b[0m\u001b[0;34m,\u001b[0m \u001b[0;36m365\u001b[0m\u001b[0;34m,\u001b[0m \u001b[0;36m1825\u001b[0m\u001b[0;34m]\u001b[0m\u001b[0;34m)\u001b[0m\u001b[0;34m\u001b[0m\u001b[0;34m\u001b[0m\u001b[0m\n\u001b[0m",
      "\u001b[0;31mNameError\u001b[0m: name 'spod' is not defined"
     ]
    }
   ],
   "source": [
    "spod.plot_eigs_vs_period   (freq=freq, xticks=[1, 7, 30, 365, 1825])"
   ]
  },
  {
   "cell_type": "code",
   "execution_count": 7,
   "metadata": {},
   "outputs": [
    {
     "ename": "NameError",
     "evalue": "name 'spod' is not defined",
     "output_type": "error",
     "traceback": [
      "\u001b[0;31m---------------------------------------------------------------------------\u001b[0m",
      "\u001b[0;31mNameError\u001b[0m                                 Traceback (most recent call last)",
      "\u001b[0;32m<ipython-input-7-e3a3095b28bd>\u001b[0m in \u001b[0;36m<module>\u001b[0;34m\u001b[0m\n\u001b[0;32m----> 1\u001b[0;31m \u001b[0mspod\u001b[0m\u001b[0;34m.\u001b[0m\u001b[0mplot_2D_data\u001b[0m\u001b[0;34m(\u001b[0m\u001b[0mx1\u001b[0m\u001b[0;34m=\u001b[0m\u001b[0mx1\u001b[0m\u001b[0;34m,\u001b[0m \u001b[0mx2\u001b[0m\u001b[0;34m=\u001b[0m\u001b[0mx2\u001b[0m\u001b[0;34m,\u001b[0m \u001b[0mcoastlines\u001b[0m\u001b[0;34m=\u001b[0m\u001b[0;32mTrue\u001b[0m\u001b[0;34m)\u001b[0m\u001b[0;34m\u001b[0m\u001b[0;34m\u001b[0m\u001b[0m\n\u001b[0m",
      "\u001b[0;31mNameError\u001b[0m: name 'spod' is not defined"
     ]
    }
   ],
   "source": [
    "spod.plot_2D_data(x1=x1, x2=x2, coastlines=True)"
   ]
  },
  {
   "cell_type": "code",
   "execution_count": 8,
   "metadata": {},
   "outputs": [
    {
     "ename": "NameError",
     "evalue": "name 'spod' is not defined",
     "output_type": "error",
     "traceback": [
      "\u001b[0;31m---------------------------------------------------------------------------\u001b[0m",
      "\u001b[0;31mNameError\u001b[0m                                 Traceback (most recent call last)",
      "\u001b[0;32m<ipython-input-8-4e3fbe9718cc>\u001b[0m in \u001b[0;36m<module>\u001b[0;34m\u001b[0m\n\u001b[0;32m----> 1\u001b[0;31m spod.plot_2D_modes_at_frequency(\n\u001b[0m\u001b[1;32m      2\u001b[0m \tfreq_required=freq_found, freq=freq, x1=x1, x2=x2, coastlines='centred')\n",
      "\u001b[0;31mNameError\u001b[0m: name 'spod' is not defined"
     ]
    }
   ],
   "source": [
    "spod.plot_2D_modes_at_frequency(\n",
    "\tfreq_required=freq_found, freq=freq, x1=x1, x2=x2, coastlines='centred')"
   ]
  },
  {
   "cell_type": "code",
   "execution_count": null,
   "metadata": {},
   "outputs": [],
   "source": []
  },
  {
   "cell_type": "code",
   "execution_count": null,
   "metadata": {},
   "outputs": [],
   "source": []
  }
 ],
 "metadata": {
  "kernelspec": {
   "display_name": "Python 3",
   "language": "python",
   "name": "python3"
  },
  "language_info": {
   "codemirror_mode": {
    "name": "ipython",
    "version": 3
   },
   "file_extension": ".py",
   "mimetype": "text/x-python",
   "name": "python",
   "nbconvert_exporter": "python",
   "pygments_lexer": "ipython3",
   "version": "3.8.6"
  }
 },
 "nbformat": 4,
 "nbformat_minor": 4
}
