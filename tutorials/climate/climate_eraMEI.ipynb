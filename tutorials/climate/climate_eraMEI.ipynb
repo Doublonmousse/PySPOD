{
 "cells": [
  {
   "cell_type": "markdown",
   "metadata": {},
   "source": [
    "## Tutorial for multivariate climate data"
   ]
  },
  {
   "cell_type": "markdown",
   "metadata": {},
   "source": [
    "Import required packages"
   ]
  },
  {
   "cell_type": "code",
   "execution_count": 3,
   "metadata": {},
   "outputs": [
    {
     "name": "stdout",
     "output_type": "stream",
     "text": [
      "/Users/gian/GIT-GM/pyspod/tutorials/climate\n"
     ]
    }
   ],
   "source": [
    "import os\n",
    "import sys\n",
    "import time\n",
    "import warnings\n",
    "import xarray as xr\n",
    "import numpy  as np\n",
    "from pathlib import Path\n",
    "\n",
    "# Import library specific modules\n",
    "sys.path.append(\"../../\")\n",
    "from library.spod_low_storage import SPOD_low_storage\n",
    "from library.spod_low_ram     import SPOD_low_ram\n",
    "from library.spod_streaming   import SPOD_streaming\n",
    "import library.utils as spod_utils\n",
    "import library.utils as utils\n",
    "\n",
    "# Current, parent and file paths\n",
    "CWD = os.getcwd()"
   ]
  },
  {
   "cell_type": "code",
   "execution_count": 6,
   "metadata": {},
   "outputs": [
    {
     "name": "stdout",
     "output_type": "stream",
     "text": [
      "<xarray.Dataset>\n",
      "Dimensions:    (latitude: 121, longitude: 240, time: 1332)\n",
      "Coordinates:\n",
      "  * longitude  (longitude) float32 0.0 1.5 3.0 4.5 ... 354.0 355.5 357.0 358.5\n",
      "  * latitude   (latitude) float32 90.0 88.5 87.0 85.5 ... -87.0 -88.5 -90.0\n",
      "  * time       (time) datetime64[ns] 1900-01-01 1900-02-01 ... 2010-12-01\n",
      "Data variables:\n",
      "    sst        (time, latitude, longitude) float32 ...\n",
      "    msl        (time, latitude, longitude) float32 ...\n",
      "    tcc        (time, latitude, longitude) float32 ...\n",
      "    u10        (time, latitude, longitude) float32 ...\n",
      "    v10        (time, latitude, longitude) float32 ...\n",
      "    t2m        (time, latitude, longitude) float32 ...\n",
      "Attributes:\n",
      "    Conventions:  CF-1.6\n",
      "    history:      2020-10-25 20:57:11 GMT by grib_to_netcdf-2.19.0: grib_to_n...\n"
     ]
    }
   ],
   "source": [
    "# Inspect and load data \n",
    "file = '/Users/gian/Desktop/SEOF_reanalysis-master/data/E20C/E20C_MONTHLYMEAN00_1900_2010_MEI.nc'\n",
    "\n",
    "# Data is in netCDF format: \n",
    "# we use xarray to load the dataset and extract its content\n",
    "ds = xr.open_dataset(file)\n",
    "\n",
    "# Let's take a look at its content\n",
    "print(ds)"
   ]
  },
  {
   "cell_type": "markdown",
   "metadata": {},
   "source": [
    "the netCDF file contains 3 coordinates:\n",
    "- longitude\n",
    "- latitude, and \n",
    "- time, \n",
    "along with 6 variables\n",
    "- sst (sea surface temperature)\n",
    "- msl (mean seal level pressure)\n",
    "- tcc (total cloud cover)\n",
    "- u10 (horizontal velocity; u-component)\n",
    "- v10 (horizontal velocity; v-component)\n",
    "- t2m (2-meters temperature)"
   ]
  },
  {
   "cell_type": "code",
   "execution_count": 8,
   "metadata": {},
   "outputs": [
    {
     "name": "stdout",
     "output_type": "stream",
     "text": [
      "(1332, 240, 121, 6)\n"
     ]
    }
   ],
   "source": [
    "# we set the variables we want to use for the analysis\n",
    "# (we select all the variables present)\n",
    "variables = ['sst', 'msl', 'tcc', 'u10', 'v10', 't2m']\n",
    "\n",
    "# we extract time, longitude and latitude\n",
    "t = np.array(ds['time'])\n",
    "x1 = np.array(ds['longitude'])\n",
    "x2 = np.array(ds['latitude'])\n",
    "\n",
    "# and load data in RAM \n",
    "X = np.empty([t.shape[0], x1.shape[0], x2.shape[0], n_vars])\n",
    "for i,var in enumerate(variables):\n",
    "\tX[...,i] = np.einsum('ijk->ikj', np.array(ds[var]))\n",
    "\tX[...,i] = np.nan_to_num(X[...,i])\n",
    "\n",
    "# let's take a look at the shape of the data loaded in memory\n",
    "print(X.shape)"
   ]
  },
  {
   "cell_type": "markdown",
   "metadata": {},
   "source": [
    "Note that: \n",
    "- the first dimension is 1332, \n",
    "- the second is 240,\n",
    "- the third is 121, and \n",
    "- the fourth is 6. \n",
    "\n",
    "Indeed, we use as first dimension the number of time snapshots, as last dimension the number of variables and as middle dimensions, the spatial dimensions, that in our case are two and correspond to longitude and latitude."
   ]
  },
  {
   "cell_type": "code",
   "execution_count": null,
   "metadata": {},
   "outputs": [],
   "source": [
    "# define the number of variables \n",
    "# and the time snapshots to \n",
    "# use for the analysis\n",
    "n_vars = len(variables)\n",
    "nt = 300\n",
    "\n",
    "# Define required parameters\n",
    "dt = 720       # in hours\n",
    "T_approx = 876 # approximate period (in days)\n",
    "overlap_in_percent = 0\n",
    "block_dimension = dt * 12 * 5\n",
    "\n",
    "params = dict()\n",
    "params['dt'          ] = dt\n",
    "params['nt'          ] = nt\n",
    "params['xdim'        ] = 3\n",
    "params['nv'          ] = n_vars\n",
    "params['n_FFT'       ] = np.ceil(block_dimension / dt)\n",
    "params['n_freq'      ] = params['n_FFT'] / 2 + 1\n",
    "params['n_overlap'   ] = np.ceil(params['n_FFT'] * overlap_in_percent / 100)\n",
    "params['savefreqs'   ] = np.arange(0,params['n_freq'])\n",
    "params['n_modes_save'] = 3\n",
    "params['normvar'     ] = False\n",
    "params['savedir'     ] = os.path.join(CWD, 'results', Path(file).stem)\n",
    "params['conf_level'  ] = 0.95\n",
    "params['normalize'   ] = True\n",
    "params['mean'        ] = 'blockwise'\n",
    "params['savefft'     ] = False\n",
    "# Get weights from spod_utils built-in function for geospatial data\n",
    "params['weights'] = spod_utils.geo_weights_trapz_2D(\\\n",
    "lat=x2, lon=x1, R=1, n_vars=n_vars)\n",
    "if params['normalize']:\n",
    "\tparams['weights'] = spod_utils.apply_normalization(\\\n",
    "\t\tX=X, weights=params['weights'], method='variance')"
   ]
  }
 ],
 "metadata": {
  "kernelspec": {
   "display_name": "Python 3",
   "language": "python",
   "name": "python3"
  },
  "language_info": {
   "codemirror_mode": {
    "name": "ipython",
    "version": 3
   },
   "file_extension": ".py",
   "mimetype": "text/x-python",
   "name": "python",
   "nbconvert_exporter": "python",
   "pygments_lexer": "ipython3",
   "version": "3.8.6"
  }
 },
 "nbformat": 4,
 "nbformat_minor": 4
}
